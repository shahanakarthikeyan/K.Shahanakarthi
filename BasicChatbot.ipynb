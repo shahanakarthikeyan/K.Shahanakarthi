{
  "nbformat": 4,
  "nbformat_minor": 0,
  "metadata": {
    "colab": {
      "provenance": [],
      "authorship_tag": "ABX9TyNVdK2zaW5Tpiw2jDG7eSjV",
      "include_colab_link": true
    },
    "kernelspec": {
      "name": "python3",
      "display_name": "Python 3"
    },
    "language_info": {
      "name": "python"
    }
  },
  "cells": [
    {
      "cell_type": "markdown",
      "metadata": {
        "id": "view-in-github",
        "colab_type": "text"
      },
      "source": [
        "<a href=\"https://colab.research.google.com/github/shahanakarthikeyan/K.Shahanakarthi/blob/main/BasicChatbot.ipynb\" target=\"_parent\"><img src=\"https://colab.research.google.com/assets/colab-badge.svg\" alt=\"Open In Colab\"/></a>"
      ]
    },
    {
      "cell_type": "markdown",
      "source": [
        "**Name : K.Shahana**"
      ],
      "metadata": {
        "id": "D4XPossx8iEQ"
      }
    },
    {
      "cell_type": "markdown",
      "source": [
        "**Degree : B.Tech**"
      ],
      "metadata": {
        "id": "s464axro9Fzy"
      }
    },
    {
      "cell_type": "markdown",
      "source": [
        "**Department : AI&DS**"
      ],
      "metadata": {
        "id": "xg5wIXus9H_N"
      }
    },
    {
      "cell_type": "markdown",
      "source": [
        "**Task Name : Basic Chatbot**"
      ],
      "metadata": {
        "id": "Daj-ewXF8wyY"
      }
    },
    {
      "cell_type": "markdown",
      "source": [
        "# **Install Libraries**"
      ],
      "metadata": {
        "id": "v9oDK-FZ8cmD"
      }
    },
    {
      "cell_type": "code",
      "execution_count": 6,
      "metadata": {
        "colab": {
          "base_uri": "https://localhost:8080/"
        },
        "id": "mju_tli38aFF",
        "outputId": "a74438f2-b796-4d01-ae22-d64c9516a4de"
      },
      "outputs": [
        {
          "output_type": "stream",
          "name": "stdout",
          "text": [
            "Requirement already satisfied: nltk in /usr/local/lib/python3.10/dist-packages (3.8.1)\n",
            "Requirement already satisfied: click in /usr/local/lib/python3.10/dist-packages (from nltk) (8.1.7)\n",
            "Requirement already satisfied: joblib in /usr/local/lib/python3.10/dist-packages (from nltk) (1.4.2)\n",
            "Requirement already satisfied: regex>=2021.8.3 in /usr/local/lib/python3.10/dist-packages (from nltk) (2024.9.11)\n",
            "Requirement already satisfied: tqdm in /usr/local/lib/python3.10/dist-packages (from nltk) (4.66.5)\n"
          ]
        }
      ],
      "source": [
        "pip install nltk\n"
      ]
    },
    {
      "cell_type": "markdown",
      "source": [
        "# **Code For Basic Chatbot**"
      ],
      "metadata": {
        "id": "PPX9yEE08qCb"
      }
    },
    {
      "cell_type": "code",
      "source": [
        "import nltk\n",
        "import spacy\n",
        "import random  # Import random to choose responses\n",
        "\n",
        "\n",
        "nltk.download('punkt')\n",
        "\n",
        "\n",
        "nlp = spacy.load(\"en_core_web_sm\")\n",
        "\n",
        "\n",
        "pairs = [\n",
        "    (r'hello|hi', ['Hello! How can I assist you today?', 'Hi there!']),\n",
        "    (r'how are you?', [\"I'm just a program, but I'm fine!\"]),\n",
        "    (r'what is your name?', ['I am a simple chatbot!']),\n",
        "    (r'bye', ['Goodbye! Have a great day!']),\n",
        "    (r'give me one joke',['melon want to jump into lake,because it is a Watermelon']),\n",
        "    (r'give me one advice',['keep smile always'])\n",
        "]\n",
        "\n",
        "\n",
        "def chatbot_response(user_input):\n",
        "    for pattern, responses in pairs:\n",
        "        if nltk.re.match(pattern, user_input.lower()):\n",
        "            return random.choice(responses)\n",
        "\n",
        "    doc = nlp(user_input)\n",
        "    if any(token.lemma_ in ['help', 'assist'] for token in doc):\n",
        "        return \"Sure! What do you need help with?\"\n",
        "    return \"I'm sorry, I don't understand that.\"\n",
        "\n",
        "def startchatbot():\n",
        "    print(\"Chatbot: Hello! Type 'bye' to exit.\")\n",
        "    while True:\n",
        "        user_input = input(\"You: \")\n",
        "        if user_input.lower() == \"bye\":\n",
        "            print(\"Chatbot: Goodbye!\")\n",
        "            break\n",
        "        print(f\"Chatbot: {chatbot_response(user_input)}\")\n",
        "\n",
        "startchatbot()\n"
      ],
      "metadata": {
        "colab": {
          "base_uri": "https://localhost:8080/"
        },
        "id": "Oit2QFPh-1eq",
        "outputId": "81863abb-7aea-4362-cb8a-5b038dc3ab82"
      },
      "execution_count": 7,
      "outputs": [
        {
          "output_type": "stream",
          "name": "stderr",
          "text": [
            "[nltk_data] Downloading package punkt to /root/nltk_data...\n",
            "[nltk_data]   Package punkt is already up-to-date!\n"
          ]
        },
        {
          "output_type": "stream",
          "name": "stdout",
          "text": [
            "Chatbot: Hello! Type 'bye' to exit.\n",
            "You: hi\n",
            "Chatbot: Hi there!\n",
            "You: what is your name\n",
            "Chatbot: I am a simple chatbot!\n",
            "You: how are you\n",
            "Chatbot: I'm just a program, but I'm fine!\n",
            "You: give me one joke\n",
            "Chatbot: melon want to jump into lake,because it is a Watermelon\n",
            "You: give me one advice\n",
            "Chatbot: keep smile always\n",
            "You: bye\n",
            "Chatbot: Goodbye!\n"
          ]
        }
      ]
    }
  ]
}